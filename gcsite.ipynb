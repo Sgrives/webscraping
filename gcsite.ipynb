{
 "cells": [
  {
   "cell_type": "markdown",
   "metadata": {},
   "source": [
    "# What if we want data from the Graduate Center Website?\n",
    "![Graduate Center Home Page](figs/gchome.png)"
   ]
  },
  {
   "cell_type": "markdown",
   "metadata": {},
   "source": [
    "The [Scrapy](https://scrapy.org/) library is designed to pull data from websites when there's no API or the API won't work. It's often worth trying [DownThemAll](https://www.downthemall.net/) first. \n",
    "\n",
    "If you haven't installed Scrapy yet, [open a terminal](https://github.com/GCDigitalFellows/installdri.github.io/blob/master/anaconda.md) and type:\n",
    "```bash\n",
    "conda install -c conda-forge scrapy -y\n",
    "```"
   ]
  },
  {
   "cell_type": "code",
   "execution_count": 1,
   "metadata": {},
   "outputs": [],
   "source": [
    "# scrapy tutorial is at \n",
    "# https://docs.scrapy.org/en/latest/intro/tutorial.html\n",
    "import scrapy\n",
    "from scrapy.crawler import CrawlerProcess\n"
   ]
  },
  {
   "cell_type": "code",
   "execution_count": 2,
   "metadata": {},
   "outputs": [],
   "source": [
    "# this helps the scraper run in a notebook\n",
    "# https://www.jitsejan.nl/using-scrapy-in-jupyter-notebook.html\n",
    "from IPython.core.interactiveshell import InteractiveShell\n",
    "InteractiveShell.ast_node_interactivity = \"all\""
   ]
  },
  {
   "cell_type": "code",
   "execution_count": 3,
   "metadata": {},
   "outputs": [],
   "source": [
    "import scrapy\n",
    "\n",
    "class GCSpider(scrapy.Spider):\n",
    "    name = \"gc\"\n",
    "\n",
    "    def start_requests(self):\n",
    "        urls = ['https://www.gc.cuny.edu/Home', \n",
    "                'https://www.gc.cuny.edu/Prospective-Current-Students/Current-Students']\n",
    "        for url in urls:\n",
    "            yield scrapy.Request(url=url, \n",
    "                                 callback=self.parse)\n",
    "\n",
    "    def parse(self, response):\n",
    "        page = response.url.split(\"/\")[-2]\n",
    "        filename = f'gc-{page}.html'\n",
    "        with open(filename, 'wb') as f:\n",
    "            f.write(response.body)\n",
    "        self.log('Saved file %s' % filename)"
   ]
  },
  {
   "cell_type": "code",
   "execution_count": 4,
   "metadata": {},
   "outputs": [
    {
     "name": "stderr",
     "output_type": "stream",
     "text": [
      "2018-04-27 14:33:02 [scrapy.utils.log] INFO: Scrapy 1.5.0 started (bot: scrapybot)\n",
      "2018-04-27 14:33:02 [scrapy.utils.log] INFO: Versions: lxml 4.1.1.0, libxml2 2.9.7, cssselect 1.0.3, parsel 1.4.0, w3lib 1.19.0, Twisted 17.9.0, Python 3.6.4 | packaged by conda-forge | (default, Dec 23 2017, 16:54:01) - [GCC 4.2.1 Compatible Apple LLVM 6.1.0 (clang-602.0.53)], pyOpenSSL 17.4.0 (OpenSSL 1.0.2n  7 Dec 2017), cryptography 2.1.4, Platform Darwin-15.6.0-x86_64-i386-64bit\n",
      "2018-04-27 14:33:02 [scrapy.crawler] INFO: Overridden settings: {}\n",
      "2018-04-27 14:33:02 [scrapy.middleware] INFO: Enabled extensions:\n",
      "['scrapy.extensions.corestats.CoreStats',\n",
      " 'scrapy.extensions.telnet.TelnetConsole',\n",
      " 'scrapy.extensions.memusage.MemoryUsage',\n",
      " 'scrapy.extensions.logstats.LogStats']\n",
      "2018-04-27 14:33:02 [scrapy.middleware] INFO: Enabled downloader middlewares:\n",
      "['scrapy.downloadermiddlewares.httpauth.HttpAuthMiddleware',\n",
      " 'scrapy.downloadermiddlewares.downloadtimeout.DownloadTimeoutMiddleware',\n",
      " 'scrapy.downloadermiddlewares.defaultheaders.DefaultHeadersMiddleware',\n",
      " 'scrapy.downloadermiddlewares.useragent.UserAgentMiddleware',\n",
      " 'scrapy.downloadermiddlewares.retry.RetryMiddleware',\n",
      " 'scrapy.downloadermiddlewares.redirect.MetaRefreshMiddleware',\n",
      " 'scrapy.downloadermiddlewares.httpcompression.HttpCompressionMiddleware',\n",
      " 'scrapy.downloadermiddlewares.redirect.RedirectMiddleware',\n",
      " 'scrapy.downloadermiddlewares.cookies.CookiesMiddleware',\n",
      " 'scrapy.downloadermiddlewares.httpproxy.HttpProxyMiddleware',\n",
      " 'scrapy.downloadermiddlewares.stats.DownloaderStats']\n",
      "2018-04-27 14:33:02 [scrapy.middleware] INFO: Enabled spider middlewares:\n",
      "['scrapy.spidermiddlewares.httperror.HttpErrorMiddleware',\n",
      " 'scrapy.spidermiddlewares.offsite.OffsiteMiddleware',\n",
      " 'scrapy.spidermiddlewares.referer.RefererMiddleware',\n",
      " 'scrapy.spidermiddlewares.urllength.UrlLengthMiddleware',\n",
      " 'scrapy.spidermiddlewares.depth.DepthMiddleware']\n",
      "2018-04-27 14:33:02 [scrapy.middleware] INFO: Enabled item pipelines:\n",
      "[]\n",
      "2018-04-27 14:33:02 [scrapy.core.engine] INFO: Spider opened\n",
      "2018-04-27 14:33:02 [scrapy.extensions.logstats] INFO: Crawled 0 pages (at 0 pages/min), scraped 0 items (at 0 items/min)\n",
      "2018-04-27 14:33:02 [scrapy.extensions.telnet] DEBUG: Telnet console listening on 127.0.0.1:6023\n"
     ]
    },
    {
     "data": {
      "text/plain": [
       "<Deferred at 0x113e00208>"
      ]
     },
     "execution_count": 4,
     "metadata": {},
     "output_type": "execute_result"
    },
    {
     "name": "stderr",
     "output_type": "stream",
     "text": [
      "2018-04-27 14:33:03 [scrapy.core.engine] DEBUG: Crawled (200) <GET https://www.gc.cuny.edu/Home> (referer: None)\n",
      "2018-04-27 14:33:03 [gc] DEBUG: Saved file gc-www.gc.cuny.edu.html\n",
      "2018-04-27 14:33:04 [scrapy.core.engine] DEBUG: Crawled (200) <GET https://www.gc.cuny.edu/Prospective-Current-Students/Current-Students> (referer: None)\n",
      "2018-04-27 14:33:04 [gc] DEBUG: Saved file gc-Prospective-Current-Students.html\n",
      "2018-04-27 14:33:04 [scrapy.core.engine] INFO: Closing spider (finished)\n",
      "2018-04-27 14:33:04 [scrapy.statscollectors] INFO: Dumping Scrapy stats:\n",
      "{'downloader/request_bytes': 477,\n",
      " 'downloader/request_count': 2,\n",
      " 'downloader/request_method_count/GET': 2,\n",
      " 'downloader/response_bytes': 86692,\n",
      " 'downloader/response_count': 2,\n",
      " 'downloader/response_status_count/200': 2,\n",
      " 'finish_reason': 'finished',\n",
      " 'finish_time': datetime.datetime(2018, 4, 27, 18, 33, 4, 361366),\n",
      " 'log_count/DEBUG': 5,\n",
      " 'log_count/INFO': 7,\n",
      " 'memusage/max': 67903488,\n",
      " 'memusage/startup': 67903488,\n",
      " 'response_received_count': 2,\n",
      " 'scheduler/dequeued': 2,\n",
      " 'scheduler/dequeued/memory': 2,\n",
      " 'scheduler/enqueued': 2,\n",
      " 'scheduler/enqueued/memory': 2,\n",
      " 'start_time': datetime.datetime(2018, 4, 27, 18, 33, 2, 512039)}\n",
      "2018-04-27 14:33:04 [scrapy.core.engine] INFO: Spider closed (finished)\n"
     ]
    }
   ],
   "source": [
    "process = CrawlerProcess()\n",
    "process.crawl(GCSpider)\n",
    "process.start()"
   ]
  },
  {
   "cell_type": "markdown",
   "metadata": {},
   "source": [
    "While scrapy supports really robust parsing, it requires understanding the xpath experessions language. Sometimes it's easier to just save the page and use [BeautifulSoup](https://www.crummy.com/software/BeautifulSoup/bs4/doc/) for the parsing. Install it using\n",
    "```\n",
    "conda install -c conda-forge beautifulsoup4 -y\n",
    "```\n"
   ]
  },
  {
   "cell_type": "code",
   "execution_count": 5,
   "metadata": {},
   "outputs": [],
   "source": [
    "from bs4 import BeautifulSoup\n",
    "# The file needs to be opened first and the file handle passed into soup\n",
    "with open(\"gc-www.gc.cuny.edu.html\") as html_doc:\n",
    "    soup = BeautifulSoup(html_doc, 'lxml')"
   ]
  },
  {
   "cell_type": "markdown",
   "metadata": {},
   "source": [
    "Soup is an html document that we can now traverse using the DOM ([Document Object Model](https://developer.mozilla.org/en-US/docs/Web/API/Document_Object_Model))\n",
    "\n",
    "https://github.com/taspinar/twitterscraper/blob/master/twitterscraper/tweet.py"
   ]
  },
  {
   "cell_type": "code",
   "execution_count": 6,
   "metadata": {},
   "outputs": [
    {
     "data": {
      "text/plain": [
       "' \\n\\n\\tHome\\n\\n\\n\\n\\n\\n\\n\\n\\n\\n\\n\\n\\n\\n\\n\\n\\n\\n\\n\\n\\n\\n\\n\\n\\n\\n\\nvar ajaxConfig = new Array();\\nvar calendarConfig = new Array();\\nv'"
      ]
     },
     "execution_count": 6,
     "metadata": {},
     "output_type": "execute_result"
    }
   ],
   "source": [
    "soup.text[:100]"
   ]
  },
  {
   "cell_type": "markdown",
   "metadata": {},
   "source": [
    "# What is the dom"
   ]
  },
  {
   "cell_type": "code",
   "execution_count": 7,
   "metadata": {},
   "outputs": [
    {
     "data": {
      "text/plain": [
       "<meta content=\"The Graduate Center, The City University of New York\n",
       "Established in 1961, the Graduate Center of the City University of New York (CUNY) is devoted primarily to doctoral studies and awards most of CUNY's doctoral degrees. An internationally recognized center for advanced studies and a national model for public doctoral education, the Graduate Center offers more than thirty doctoral programs in the arts, humanities, social sciences, and the natural sciences, as well as a number of master's programs. Many of its faculty members are among the world's leading scholars in their respective fields. The school currently enrolls over 4700 students from throughout the United States, as well as from about eighty foreign countries, and its alumni hold major positions in industry and government, as well as in academia. The Graduate Center is also home to more than thirty interdisciplinary research centers and institutes focused on areas of compelling social, civic, cultural, and scientific concerns. Located in a landmark Fifth Avenue building, the Graduate Center has become a vital part of New York City's intellectual and cultural life with its extensive array of public lectures, exhibitions, concerts, and theatrical events. Further information on the Graduate Center and its programs can be found at www.gc.cuny.edu.\" name=\"description\"/>"
      ]
     },
     "execution_count": 7,
     "metadata": {},
     "output_type": "execute_result"
    }
   ],
   "source": [
    "# any attribute of the DOM is also an attribute the soup object\n",
    "soup.meta"
   ]
  },
  {
   "cell_type": "code",
   "execution_count": 8,
   "metadata": {},
   "outputs": [
    {
     "data": {
      "text/plain": [
       "[<meta content=\"The Graduate Center, The City University of New York\n",
       " Established in 1961, the Graduate Center of the City University of New York (CUNY) is devoted primarily to doctoral studies and awards most of CUNY's doctoral degrees. An internationally recognized center for advanced studies and a national model for public doctoral education, the Graduate Center offers more than thirty doctoral programs in the arts, humanities, social sciences, and the natural sciences, as well as a number of master's programs. Many of its faculty members are among the world's leading scholars in their respective fields. The school currently enrolls over 4700 students from throughout the United States, as well as from about eighty foreign countries, and its alumni hold major positions in industry and government, as well as in academia. The Graduate Center is also home to more than thirty interdisciplinary research centers and institutes focused on areas of compelling social, civic, cultural, and scientific concerns. Located in a landmark Fifth Avenue building, the Graduate Center has become a vital part of New York City's intellectual and cultural life with its extensive array of public lectures, exhibitions, concerts, and theatrical events. Further information on the Graduate Center and its programs can be found at www.gc.cuny.edu.\" name=\"description\"/>,\n",
       " <meta content=\"text/html; charset=utf-8\" http-equiv=\"content-type\"/>,\n",
       " <meta content=\"no-cache\" http-equiv=\"pragma\"/>,\n",
       " <meta content=\"text/css\" http-equiv=\"content-style-type\"/>,\n",
       " <meta content=\"text/javascript\" http-equiv=\"content-script-type\"/>,\n",
       " <meta content=\"graduate school, doctoral programs, master's programs, new york city, certificate studies, manhattan, cuny, city university of new york, research centers, interdisciplinary certificates, science schools, academic experts, graduate center, cuny\n",
       " graduate center, 365 newsletter\" name=\"keywords\"/>,\n",
       " <meta charset=\"utf-8\"/>,\n",
       " <meta content=\"IE=edge,chrome=1\" http-equiv=\"X-UA-Compatible\"/>,\n",
       " <meta content=\"no-cache, must-revalidate, no-store, post-check=0, pre-check=0\" http-equiv=\"cache-control\"/>,\n",
       " <meta content=\"-1\" http-equiv=\"Expires\"/>,\n",
       " <meta content=\"\" name=\"author\"/>,\n",
       " <meta content=\"hqWcI7LGCrnlZuZ3iNTV1AoNvUfzSmis9QzWohJ9nHo\" name=\"google-site-verification\"/>,\n",
       " <meta content=\"width=device-width, initial-scale=1.0\" name=\"viewport\"/>]"
      ]
     },
     "execution_count": 8,
     "metadata": {},
     "output_type": "execute_result"
    }
   ],
   "source": [
    "soup.find_all('meta')"
   ]
  },
  {
   "cell_type": "code",
   "execution_count": 9,
   "metadata": {
    "scrolled": true
   },
   "outputs": [
    {
     "data": {
      "text/plain": [
       "\"The Graduate Center, The City University of New York\\nEstablished in 1961, the Graduate Center of the City University of New York (CUNY) is devoted primarily to doctoral studies and awards most of CUNY's doctoral degrees. An internationally recognized center for advanced studies and a national model for public doctoral education, the Graduate Center offers more than thirty doctoral programs in the arts, humanities, social sciences, and the natural sciences, as well as a number of master's programs. Many of its faculty members are among the world's leading scholars in their respective fields. The school currently enrolls over 4700 students from throughout the United States, as well as from about eighty foreign countries, and its alumni hold major positions in industry and government, as well as in academia. The Graduate Center is also home to more than thirty interdisciplinary research centers and institutes focused on areas of compelling social, civic, cultural, and scientific concerns. Located in a landmark Fifth Avenue building, the Graduate Center has become a vital part of New York City's intellectual and cultural life with its extensive array of public lectures, exhibitions, concerts, and theatrical events. Further information on the Graduate Center and its programs can be found at www.gc.cuny.edu.\""
      ]
     },
     "execution_count": 9,
     "metadata": {},
     "output_type": "execute_result"
    }
   ],
   "source": [
    "#attributes of the tag are treated as dictionary (key, value pairs)\n",
    "soup.meta['content']"
   ]
  },
  {
   "cell_type": "markdown",
   "metadata": {},
   "source": [
    "1. find the content of the meta tag on https://www.gc.cuny.edu/Prospective-Current-Students/Current-Students\n",
    "2. Scrape another page on the GC website"
   ]
  },
  {
   "cell_type": "code",
   "execution_count": null,
   "metadata": {},
   "outputs": [],
   "source": []
  }
 ],
 "metadata": {
  "kernelspec": {
   "display_name": "Python 3",
   "language": "python",
   "name": "python3"
  },
  "language_info": {
   "codemirror_mode": {
    "name": "ipython",
    "version": 3
   },
   "file_extension": ".py",
   "mimetype": "text/x-python",
   "name": "python",
   "nbconvert_exporter": "python",
   "pygments_lexer": "ipython3",
   "version": "3.6.4"
  }
 },
 "nbformat": 4,
 "nbformat_minor": 2
}
