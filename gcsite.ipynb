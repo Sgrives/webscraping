{
 "cells": [
  {
   "cell_type": "markdown",
   "metadata": {},
   "source": [
    "# What if we want data from the Graduate Center Website?\n",
    "![Graduate Center Home Page](figs/gchome.png)"
   ]
  },
  {
   "cell_type": "markdown",
   "metadata": {},
   "source": [
    "The [Scrapy](https://scrapy.org/) library is designed to pull data from websites when there's no API or the API won't work. It's often worth trying [DownThemAll](https://www.downthemall.net/) first. \n",
    "\n",
    "If you haven't installed Scrapy yet, [open a terminal](https://github.com/GCDigitalFellows/installdri.github.io/blob/master/anaconda.md) and type:\n",
    "```bash\n",
    "conda install -c conda-forge scrapy -y\n",
    "```"
   ]
  },
  {
   "cell_type": "code",
   "execution_count": null,
   "metadata": {},
   "outputs": [],
   "source": [
    "# scrapy tutorial is at \n",
    "# https://docs.scrapy.org/en/latest/intro/tutorial.html\n",
    "import scrapy\n",
    "from scrapy.crawler import CrawlerProcess\n"
   ]
  },
  {
   "cell_type": "code",
   "execution_count": null,
   "metadata": {},
   "outputs": [],
   "source": [
    "# this helps the scraper run in a notebook\n",
    "# https://www.jitsejan.nl/using-scrapy-in-jupyter-notebook.html\n",
    "from IPython.core.interactiveshell import InteractiveShell\n",
    "InteractiveShell.ast_node_interactivity = \"all\""
   ]
  },
  {
   "cell_type": "code",
   "execution_count": null,
   "metadata": {},
   "outputs": [],
   "source": [
    "import scrapy\n",
    "\n",
    "class GCSpider(scrapy.Spider):\n",
    "    name = \"gc\"\n",
    "\n",
    "    def start_requests(self):\n",
    "        urls = ['https://www.gc.cuny.edu/Home', \n",
    "                'https://www.gc.cuny.edu/Prospective-Current-Students/Current-Students']\n",
    "        for url in urls:\n",
    "            yield scrapy.Request(url=url, callback=self.parse)\n",
    "\n",
    "    def parse(self, response):\n",
    "        page = response.url.split(\"/\")[-2]\n",
    "        filename = f'gc-{page}.html'\n",
    "        with open(filename, 'wb') as f:\n",
    "            f.write(response.body)\n",
    "        self.log('Saved file %s' % filename)"
   ]
  },
  {
   "cell_type": "code",
   "execution_count": null,
   "metadata": {},
   "outputs": [],
   "source": [
    "process = CrawlerProcess()\n",
    "process.crawl(GCSpider)\n",
    "process.start()"
   ]
  },
  {
   "cell_type": "markdown",
   "metadata": {},
   "source": [
    "While scrapy supports really robust parsing, it requires understanding the xpath experessions language. Sometimes it's easier to just save the page and use [BeautifulSoup](https://www.crummy.com/software/BeautifulSoup/bs4/doc/) for the parsing. Install it using\n",
    "```\n",
    "conda install -c conda-forge beautifulsoup4 -y\n",
    "```\n"
   ]
  },
  {
   "cell_type": "code",
   "execution_count": null,
   "metadata": {},
   "outputs": [],
   "source": [
    "from bs4 import BeautifulSoup\n",
    "# The file needs to be opened first and the file handle passed into soup\n",
    "with open(\"gc-www.gc.cuny.edu.html\") as html_doc:\n",
    "    soup = BeautifulSoup(html_doc, 'lxml')"
   ]
  },
  {
   "cell_type": "markdown",
   "metadata": {},
   "source": [
    "Soup is an html document that we can now traverse using the DOM ([Document Object Model](https://developer.mozilla.org/en-US/docs/Web/API/Document_Object_Model))\n",
    "\n",
    "https://github.com/taspinar/twitterscraper/blob/master/twitterscraper/tweet.py"
   ]
  },
  {
   "cell_type": "code",
   "execution_count": null,
   "metadata": {},
   "outputs": [],
   "source": [
    "soup.text[:100]"
   ]
  },
  {
   "cell_type": "markdown",
   "metadata": {},
   "source": [
    "# What is the dom"
   ]
  },
  {
   "cell_type": "code",
   "execution_count": null,
   "metadata": {},
   "outputs": [],
   "source": [
    "# any attribute of the DOM is also an attribute the soup object\n",
    "soup.meta"
   ]
  },
  {
   "cell_type": "code",
   "execution_count": null,
   "metadata": {},
   "outputs": [],
   "source": [
    "soup.find_all('meta')"
   ]
  },
  {
   "cell_type": "code",
   "execution_count": null,
   "metadata": {
    "scrolled": true
   },
   "outputs": [],
   "source": [
    "#attributes of the tag are treated as dictionary (key, value pairs)\n",
    "soup.meta['content']"
   ]
  },
  {
   "cell_type": "markdown",
   "metadata": {},
   "source": [
    "1. find the content of the meta tag on https://www.gc.cuny.edu/Prospective-Current-Students/Current-Students\n",
    "2. Scrape another page on the GC website"
   ]
  },
  {
   "cell_type": "code",
   "execution_count": null,
   "metadata": {},
   "outputs": [],
   "source": []
  }
 ],
 "metadata": {
  "kernelspec": {
   "display_name": "Python 3",
   "language": "python",
   "name": "python3"
  },
  "language_info": {
   "codemirror_mode": {
    "name": "ipython",
    "version": 3
   },
   "file_extension": ".py",
   "mimetype": "text/x-python",
   "name": "python",
   "nbconvert_exporter": "python",
   "pygments_lexer": "ipython3",
   "version": "3.6.4"
  }
 },
 "nbformat": 4,
 "nbformat_minor": 2
}
